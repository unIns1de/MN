{
  "nbformat": 4,
  "nbformat_minor": 0,
  "metadata": {
    "colab": {
      "provenance": []
    },
    "kernelspec": {
      "name": "python3",
      "display_name": "Python 3"
    },
    "language_info": {
      "name": "python"
    }
  },
  "cells": [
    {
      "cell_type": "markdown",
      "source": [
        "# Лабораторна робота 1. Вступ до машинного навчання. Елементи лінійної алгебри.\n",
        "**Варіант № 3**\n",
        "\n",
        "[Посилання на GitHub](https://github.com/unIns1de/MN)\n",
        "\n",
        "\n"
      ],
      "metadata": {
        "id": "5AP5GTfUa1Uf"
      }
    },
    {
      "cell_type": "code",
      "source": [
        "import numpy as np\n",
        "np.__version__"
      ],
      "metadata": {
        "colab": {
          "base_uri": "https://localhost:8080/",
          "height": 35
        },
        "id": "FzsZ0kEKc7JK",
        "outputId": "aea86aea-07fa-442a-fc96-8085645c217e"
      },
      "execution_count": 2,
      "outputs": [
        {
          "output_type": "execute_result",
          "data": {
            "text/plain": [
              "'2.0.2'"
            ],
            "application/vnd.google.colaboratory.intrinsic+json": {
              "type": "string"
            }
          },
          "metadata": {},
          "execution_count": 2
        }
      ]
    },
    {
      "cell_type": "markdown",
      "source": [
        "Завдання 1\n",
        "\n",
        "Створіть одновимірний масив (вектор) з парними числами від 2 до 20 та виведіть його значення."
      ],
      "metadata": {
        "id": "LQ1M9z8_cuQP"
      }
    },
    {
      "cell_type": "code",
      "source": [
        "import numpy as np\n",
        "\n",
        "arr = np.arange(2, 21, 2)\n",
        "\n",
        "print(\"Одновимірний масив з парними числами від 2 до 20:\")\n",
        "print(arr)"
      ],
      "metadata": {
        "colab": {
          "base_uri": "https://localhost:8080/"
        },
        "id": "roHWrWiGcwcC",
        "outputId": "4c743e6b-ac57-4d00-f8cf-0c2965df9277"
      },
      "execution_count": 1,
      "outputs": [
        {
          "output_type": "stream",
          "name": "stdout",
          "text": [
            "Одновимірний масив з парними числами від 2 до 20:\n",
            "[ 2  4  6  8 10 12 14 16 18 20]\n"
          ]
        }
      ]
    },
    {
      "cell_type": "markdown",
      "source": [
        "Завдання 2\n",
        "\n",
        "\n",
        "Створіть двовимірний масив (матрицю) розміром 3x3, заповніть його випадковими\n",
        "дійсними числами від 0 до 1 та виведіть його значення."
      ],
      "metadata": {
        "id": "9e_u2O7Rc2Nh"
      }
    },
    {
      "cell_type": "code",
      "source": [
        "matrix = np.random.rand(3, 3)\n",
        "\n",
        "print(\"Матриця 3x3 з випадковими числами від 0 до 1:\")\n",
        "print(matrix)"
      ],
      "metadata": {
        "colab": {
          "base_uri": "https://localhost:8080/"
        },
        "id": "Sy1hbqXsc3wO",
        "outputId": "602c2cb0-597a-49de-8cb2-2a6fabe7045b"
      },
      "execution_count": 3,
      "outputs": [
        {
          "output_type": "stream",
          "name": "stdout",
          "text": [
            "Матриця 3x3 з випадковими числами від 0 до 1:\n",
            "[[0.41931655 0.58296553 0.79999453]\n",
            " [0.00996776 0.49178178 0.83818276]\n",
            " [0.83159074 0.56279801 0.6162742 ]]\n"
          ]
        }
      ]
    },
    {
      "cell_type": "markdown",
      "source": [
        "Завдання 3\n",
        "\n",
        "\n",
        "Створіть масив розміром 3x3, заповніть його випадковими натуральними числами від\n",
        "1 до 20 та виведіть його значення."
      ],
      "metadata": {
        "id": "eBe-bfD3dN55"
      }
    },
    {
      "cell_type": "code",
      "source": [
        "matrix = np.random.randint(1, 21, size=(3, 3))\n",
        "\n",
        "print(\"Матриця 3x3 з випадковими натуральними числами від 1 до 20:\")\n",
        "print(matrix)"
      ],
      "metadata": {
        "colab": {
          "base_uri": "https://localhost:8080/"
        },
        "id": "Dxsu7-E6dPLs",
        "outputId": "43ffac84-7ef4-444d-f97d-f3a5b5a92ea2"
      },
      "execution_count": 4,
      "outputs": [
        {
          "output_type": "stream",
          "name": "stdout",
          "text": [
            "Матриця 3x3 з випадковими натуральними числами від 1 до 20:\n",
            "[[ 1  3 20]\n",
            " [10 11 20]\n",
            " [ 6  7  8]]\n"
          ]
        }
      ]
    },
    {
      "cell_type": "markdown",
      "source": [
        "Завдання 4\n",
        "\n",
        "\n",
        "Створіть масив розміром 4x4, заповніть його випадковими дійсними числами в\n",
        "діапазоні від 0 до 1 та знайдіть мінімальний елемент"
      ],
      "metadata": {
        "id": "FsYt_nBkdYV3"
      }
    },
    {
      "cell_type": "code",
      "source": [
        "matrix = np.random.rand(4, 4)\n",
        "\n",
        "min_value = np.min(matrix)\n",
        "\n",
        "print(\"Матриця 4x4 з випадковими числами від 0 до 1:\")\n",
        "print(matrix)\n",
        "print(\"\\nМінімальний елемент матриці:\", min_value)"
      ],
      "metadata": {
        "colab": {
          "base_uri": "https://localhost:8080/"
        },
        "id": "IxSHrIyudZxA",
        "outputId": "ff43fced-ea48-4313-e837-3a68fba848a4"
      },
      "execution_count": 5,
      "outputs": [
        {
          "output_type": "stream",
          "name": "stdout",
          "text": [
            "Матриця 4x4 з випадковими числами від 0 до 1:\n",
            "[[0.79951762 0.18204103 0.74738654 0.51556904]\n",
            " [0.97082794 0.02223279 0.00297571 0.98946563]\n",
            " [0.17549561 0.23788234 0.47765472 0.67270238]\n",
            " [0.735122   0.63490648 0.64539833 0.44684904]]\n",
            "\n",
            "Мінімальний елемент матриці: 0.002975711181756213\n"
          ]
        }
      ]
    },
    {
      "cell_type": "markdown",
      "source": [
        "Завдання 5\n",
        "\n",
        "\n",
        "Створіть два одновимірних масиви розміром 7, заповніть їх випадковими цілими\n",
        "числами в діапазоні від 1 до 15 та виконайте на них поелементні операції додавання,\n",
        "віднімання та множення."
      ],
      "metadata": {
        "id": "jIfj2lo0dfii"
      }
    },
    {
      "cell_type": "code",
      "source": [
        "a = np.random.randint(1, 16, size=7)\n",
        "b = np.random.randint(1, 16, size=7)\n",
        "\n",
        "addition = a + b\n",
        "subtraction = a - b\n",
        "multiplication = a * b\n",
        "\n",
        "print(\"Масив a:\", a)\n",
        "print(\"Масив b:\", b)\n",
        "print(\"\\nДодавання a + b:\", addition)\n",
        "print(\"Віднімання a - b:\", subtraction)\n",
        "print(\"Множення a * b:\", multiplication)"
      ],
      "metadata": {
        "colab": {
          "base_uri": "https://localhost:8080/"
        },
        "id": "dxioPREGdg71",
        "outputId": "9dbf3499-78f9-46e3-8e3e-e9ff3d4bc248"
      },
      "execution_count": 6,
      "outputs": [
        {
          "output_type": "stream",
          "name": "stdout",
          "text": [
            "Масив a: [ 3  6 14 14  1 13  8]\n",
            "Масив b: [ 4  4 12  4 11  5  2]\n",
            "\n",
            "Додавання a + b: [ 7 10 26 18 12 18 10]\n",
            "Віднімання a - b: [ -1   2   2  10 -10   8   6]\n",
            "Множення a * b: [ 12  24 168  56  11  65  16]\n"
          ]
        }
      ]
    },
    {
      "cell_type": "markdown",
      "source": [
        "Завдання 6\n",
        "\n",
        "\n",
        "Створіть дві матриці 3x3, заповніть їх довільними цілими числами від 3 до 30 та\n",
        "знайдіть їх добуток."
      ],
      "metadata": {
        "id": "KFEdB0NDdsZX"
      }
    },
    {
      "cell_type": "code",
      "source": [
        "A = np.random.randint(3, 31, size=(3, 3))\n",
        "B = np.random.randint(3, 31, size=(3, 3))\n",
        "\n",
        "product = np.dot(A, B)\n",
        "\n",
        "print(\"Матриця A:\")\n",
        "print(A)\n",
        "print(\"\\nМатриця B:\")\n",
        "print(B)\n",
        "print(\"\\nДобуток матриць A і B:\")\n",
        "print(product)"
      ],
      "metadata": {
        "colab": {
          "base_uri": "https://localhost:8080/"
        },
        "id": "-z1XvrPydtlZ",
        "outputId": "0b63b040-ebd1-4c69-9a7b-5ef5e42e9410"
      },
      "execution_count": 7,
      "outputs": [
        {
          "output_type": "stream",
          "name": "stdout",
          "text": [
            "Матриця A:\n",
            "[[15 14 14]\n",
            " [15 13 15]\n",
            " [18 27 23]]\n",
            "\n",
            "Матриця B:\n",
            "[[14 20 22]\n",
            " [21 19 18]\n",
            " [21 14 27]]\n",
            "\n",
            "Добуток матриць A і B:\n",
            "[[ 798  762  960]\n",
            " [ 798  757  969]\n",
            " [1302 1195 1503]]\n"
          ]
        }
      ]
    },
    {
      "cell_type": "markdown",
      "source": [
        "Завдання 7\n",
        "\n",
        "\n",
        "Створіть дві матриці розміром 4x2 та 2x5, заповніть їх випадковими цілими числами\n",
        "в діапазоні від 1 до 7 та перемножте їх між собою."
      ],
      "metadata": {
        "id": "FPRLEnFWd8qQ"
      }
    },
    {
      "cell_type": "code",
      "source": [
        "A = np.random.randint(1, 8, size=(4, 2))  # 4x2\n",
        "B = np.random.randint(1, 8, size=(2, 5))  # 2x5\n",
        "\n",
        "C = np.dot(A, B)\n",
        "\n",
        "print(\"Матриця A (4x2):\")\n",
        "print(A)\n",
        "print(\"\\nМатриця B (2x5):\")\n",
        "print(B)\n",
        "print(\"\\nДобуток матриць A і B (4x5):\")\n",
        "print(C)"
      ],
      "metadata": {
        "colab": {
          "base_uri": "https://localhost:8080/"
        },
        "id": "M81QuXH_d-uR",
        "outputId": "e0bd5ccd-4626-4802-8922-88254a9d42c1"
      },
      "execution_count": 8,
      "outputs": [
        {
          "output_type": "stream",
          "name": "stdout",
          "text": [
            "Матриця A (4x2):\n",
            "[[2 2]\n",
            " [2 1]\n",
            " [3 2]\n",
            " [4 7]]\n",
            "\n",
            "Матриця B (2x5):\n",
            "[[3 2 5 2 3]\n",
            " [5 5 7 3 3]]\n",
            "\n",
            "Добуток матриць A і B (4x5):\n",
            "[[16 14 24 10 12]\n",
            " [11  9 17  7  9]\n",
            " [19 16 29 12 15]\n",
            " [47 43 69 29 33]]\n"
          ]
        }
      ]
    },
    {
      "cell_type": "markdown",
      "source": [
        "Завдання 8\n",
        "\n",
        "\n",
        "Створіть матрицю розміром 2x2, заповніть її випадковими цілими числами в діапазоні\n",
        "від 1 до 8 та знайдіть її обернену матрицю."
      ],
      "metadata": {
        "id": "AflO79AAeDC4"
      }
    },
    {
      "cell_type": "code",
      "source": [
        "A = np.random.randint(1, 9, size=(2, 2))\n",
        "\n",
        "try:\n",
        "    A_inv = np.linalg.inv(A)\n",
        "    print(\"Матриця A:\")\n",
        "    print(A)\n",
        "    print(\"\\nОбернена матриця A_inv:\")\n",
        "    print(A_inv)\n",
        "except np.linalg.LinAlgError:\n",
        "    print(\"Матриця не обернена (детермінант = 0):\")\n",
        "    print(A)"
      ],
      "metadata": {
        "colab": {
          "base_uri": "https://localhost:8080/"
        },
        "id": "SheauohQeEKu",
        "outputId": "b7ad552e-077f-465f-8872-2cae5306b69c"
      },
      "execution_count": 9,
      "outputs": [
        {
          "output_type": "stream",
          "name": "stdout",
          "text": [
            "Матриця A:\n",
            "[[4 2]\n",
            " [6 2]]\n",
            "\n",
            "Обернена матриця A_inv:\n",
            "[[-0.5  0.5]\n",
            " [ 1.5 -1. ]]\n"
          ]
        }
      ]
    },
    {
      "cell_type": "markdown",
      "source": [
        "Завдання 9\n",
        "\n",
        "\n",
        "Створіть матрицю розміром 2x3, заповніть її випадковими дійсними числами в\n",
        "діапазоні від 0 до 1 та транспонуйте її."
      ],
      "metadata": {
        "id": "EpzjhwgveLo8"
      }
    },
    {
      "cell_type": "code",
      "source": [
        "A = np.random.rand(2, 3)\n",
        "\n",
        "A_T = A.T\n",
        "\n",
        "print(\"Матриця A (2x3):\")\n",
        "print(A)\n",
        "print(\"\\nТранспонована матриця A_T (3x2):\")\n",
        "print(A_T)"
      ],
      "metadata": {
        "colab": {
          "base_uri": "https://localhost:8080/"
        },
        "id": "J255XaBoeMxe",
        "outputId": "f3de5e1d-c707-4772-c12f-390aa7f7e94c"
      },
      "execution_count": 10,
      "outputs": [
        {
          "output_type": "stream",
          "name": "stdout",
          "text": [
            "Матриця A (2x3):\n",
            "[[6.82238083e-01 2.04423121e-01 3.79194112e-01]\n",
            " [6.48057364e-01 2.71090097e-04 9.95796956e-01]]\n",
            "\n",
            "Транспонована матриця A_T (3x2):\n",
            "[[6.82238083e-01 6.48057364e-01]\n",
            " [2.04423121e-01 2.71090097e-04]\n",
            " [3.79194112e-01 9.95796956e-01]]\n"
          ]
        }
      ]
    },
    {
      "cell_type": "markdown",
      "source": [
        "Завдання 10\n",
        "\n",
        "\n",
        "Створіть матрицю розміром 3x4 та вектор розміром 4 x1, заповніть їх випадковими\n",
        "цілими числами в діапазоні від 1 до 10 та знайдіть добуток матриці на вектор."
      ],
      "metadata": {
        "id": "L0AH2rD9eX-8"
      }
    },
    {
      "cell_type": "code",
      "source": [
        "A = np.random.randint(1, 11, size=(3, 4))\n",
        "\n",
        "v = np.random.randint(1, 11, size=(4, 1))\n",
        "\n",
        "result = np.dot(A, v)\n",
        "\n",
        "print(\"Матриця A (3x4):\")\n",
        "print(A)\n",
        "print(\"\\nВектор v (4x1):\")\n",
        "print(v)\n",
        "print(\"\\nДобуток матриці на вектор (3x1):\")\n",
        "print(result)"
      ],
      "metadata": {
        "colab": {
          "base_uri": "https://localhost:8080/"
        },
        "id": "FQ78FkeoeZFP",
        "outputId": "faa9c52d-cbae-42cc-cc15-2982a7a16898"
      },
      "execution_count": 11,
      "outputs": [
        {
          "output_type": "stream",
          "name": "stdout",
          "text": [
            "Матриця A (3x4):\n",
            "[[ 4  3  7  1]\n",
            " [ 9  3  8 10]\n",
            " [ 7  2  7  9]]\n",
            "\n",
            "Вектор v (4x1):\n",
            "[[2]\n",
            " [1]\n",
            " [8]\n",
            " [6]]\n",
            "\n",
            "Добуток матриці на вектор (3x1):\n",
            "[[ 73]\n",
            " [145]\n",
            " [126]]\n"
          ]
        }
      ]
    },
    {
      "cell_type": "markdown",
      "source": [
        "Завдання 11\n",
        "\n",
        "\n",
        "Створіть матрицю розміром 2x3 та вектор розміром 3x1, заповніть матрицю\n",
        "випадковими дійсними числами від 0 до 1, а вектор - випадковими цілими числами в\n",
        "діапазоні від 1 до 10, і знайдіть добуток матриці на вектор."
      ],
      "metadata": {
        "id": "hw8kJT2Pev6J"
      }
    },
    {
      "cell_type": "code",
      "source": [
        "A = np.random.rand(2, 3)\n",
        "\n",
        "v = np.random.randint(1, 11, size=(3, 1))\n",
        "\n",
        "result = np.dot(A, v)\n",
        "\n",
        "print(\"Матриця A (2x3):\")\n",
        "print(A)\n",
        "print(\"\\nВектор v (3x1):\")\n",
        "print(v)\n",
        "print(\"\\nДобуток матриці на вектор (2x1):\")\n",
        "print(result)"
      ],
      "metadata": {
        "colab": {
          "base_uri": "https://localhost:8080/"
        },
        "id": "NDz9kLbXexYa",
        "outputId": "69072e2d-79c6-45a4-973e-977b9a374fd8"
      },
      "execution_count": 12,
      "outputs": [
        {
          "output_type": "stream",
          "name": "stdout",
          "text": [
            "Матриця A (2x3):\n",
            "[[0.20284347 0.71846177 0.97053724]\n",
            " [0.78325839 0.84626427 0.23564574]]\n",
            "\n",
            "Вектор v (3x1):\n",
            "[[6]\n",
            " [8]\n",
            " [2]]\n",
            "\n",
            "Добуток матриці на вектор (2x1):\n",
            "[[ 8.90582949]\n",
            " [11.94095597]]\n"
          ]
        }
      ]
    },
    {
      "cell_type": "markdown",
      "source": [
        "Завдання 12\n",
        "\n",
        "\n",
        "Створіть дві матриці розміром 4x4, заповніть їх випадковими цілими числами в\n",
        "діапазоні від 1 до 10 та знайдіть їхню суму.\n"
      ],
      "metadata": {
        "id": "Ly_8DoIie78_"
      }
    },
    {
      "cell_type": "code",
      "source": [
        "A = np.random.randint(1, 11, size=(4, 4))\n",
        "B = np.random.randint(1, 11, size=(4, 4))\n",
        "\n",
        "sum_matrix = A + B\n",
        "\n",
        "print(\"Матриця A:\")\n",
        "print(A)\n",
        "print(\"\\nМатриця B:\")\n",
        "print(B)\n",
        "print(\"\\nСума матриць A і B:\")\n",
        "print(sum_matrix)"
      ],
      "metadata": {
        "colab": {
          "base_uri": "https://localhost:8080/"
        },
        "id": "ifpNkbVje9Xm",
        "outputId": "08e8e056-6c3e-4608-9137-733e3689824e"
      },
      "execution_count": 13,
      "outputs": [
        {
          "output_type": "stream",
          "name": "stdout",
          "text": [
            "Матриця A:\n",
            "[[4 1 2 4]\n",
            " [9 8 8 3]\n",
            " [9 7 1 8]\n",
            " [1 9 5 7]]\n",
            "\n",
            "Матриця B:\n",
            "[[ 8  7  5  4]\n",
            " [ 6  5  9 10]\n",
            " [ 4  6  2  6]\n",
            " [ 6  1  7  6]]\n",
            "\n",
            "Сума матриць A і B:\n",
            "[[12  8  7  8]\n",
            " [15 13 17 13]\n",
            " [13 13  3 14]\n",
            " [ 7 10 12 13]]\n"
          ]
        }
      ]
    },
    {
      "cell_type": "markdown",
      "source": [
        "Завдання 13\n",
        "\n",
        "\n",
        "Створіть дві матриці розміром 4x4, заповніть їх випадковими дійсними числами в\n",
        "діапазоні від -1 до 1 та знайдіть їх добуток."
      ],
      "metadata": {
        "id": "TFyoDp43fGeJ"
      }
    },
    {
      "cell_type": "code",
      "source": [
        "A = np.random.uniform(-1, 1, size=(4, 4))\n",
        "B = np.random.uniform(-1, 1, size=(4, 4))\n",
        "\n",
        "product = np.dot(A, B)\n",
        "\n",
        "print(\"Матриця A:\")\n",
        "print(A)\n",
        "print(\"\\nМатриця B:\")\n",
        "print(B)\n",
        "print(\"\\nДобуток матриць A і B:\")\n",
        "print(product)"
      ],
      "metadata": {
        "colab": {
          "base_uri": "https://localhost:8080/"
        },
        "id": "qaMl8oOyfHhm",
        "outputId": "07dbfc22-fb5f-441a-8b6f-cfa3f67ee867"
      },
      "execution_count": 14,
      "outputs": [
        {
          "output_type": "stream",
          "name": "stdout",
          "text": [
            "Матриця A:\n",
            "[[-0.91741361 -0.15049764  0.93165574  0.94686301]\n",
            " [ 0.8841494   0.0156529  -0.84929676  0.50876641]\n",
            " [ 0.96053683  0.1652587  -0.96411711 -0.02317327]\n",
            " [ 0.35201113  0.63670817 -0.15313971 -0.49185452]]\n",
            "\n",
            "Матриця B:\n",
            "[[-0.8108401   0.58921707 -0.09208625 -0.71928953]\n",
            " [ 0.91021915  0.35944275  0.30615877  0.31399491]\n",
            " [ 0.95570988  0.54184164  0.75732035 -0.74313861]\n",
            " [ 0.32645614  0.14479313  0.37151481  0.33928927]]\n",
            "\n",
            "Добуток матриць A і B:\n",
            "[[ 1.80639176  0.04725809  1.0957405   0.24154162]\n",
            " [-1.34824762  0.14006377 -0.5308012   0.17271972]\n",
            " [-1.55740145  0.09961161 -0.77661155  0.06959651]\n",
            " [-0.01280683  0.28207648 -0.13618865 -0.10635173]]\n"
          ]
        }
      ]
    },
    {
      "cell_type": "markdown",
      "source": [
        "Завдання 14\n",
        "\n",
        "\n",
        "Створіть матрицю розміром 3x3, заповніть її випадковими дійсними числами в\n",
        "діапазоні від -1 до 1 та знайдіть суму елементів матриці."
      ],
      "metadata": {
        "id": "OIYdqHlqfOfr"
      }
    },
    {
      "cell_type": "code",
      "source": [
        "A = np.random.uniform(-1, 1, size=(3, 3))\n",
        "\n",
        "sum_elements = np.sum(A)\n",
        "\n",
        "print(\"Матриця A (3x3):\")\n",
        "print(A)\n",
        "print(\"\\nСума елементів матриці:\", sum_elements)"
      ],
      "metadata": {
        "colab": {
          "base_uri": "https://localhost:8080/"
        },
        "id": "IV_rXjlzfPec",
        "outputId": "6d64bafe-578a-4e85-884b-96e5e8e6d581"
      },
      "execution_count": 15,
      "outputs": [
        {
          "output_type": "stream",
          "name": "stdout",
          "text": [
            "Матриця A (3x3):\n",
            "[[ 0.52928368  0.53956245 -0.6868743 ]\n",
            " [ 0.57130735  0.24221883 -0.25858068]\n",
            " [ 0.41428406 -0.62019413 -0.38981426]]\n",
            "\n",
            "Сума елементів матриці: 0.341192999545455\n"
          ]
        }
      ]
    },
    {
      "cell_type": "markdown",
      "source": [
        "Завдання 15\n",
        "\n",
        "\n",
        "Створіть матрицю розміром 5x5, заповніть її випадковими дійсними числами в\n",
        "діапазоні від -0.5 до 0.5 та знайдіть вектор-стовпчик, що містить суму елементів\n",
        "кожного рядка матриці."
      ],
      "metadata": {
        "id": "8f1E4MyTfWjC"
      }
    },
    {
      "cell_type": "code",
      "source": [
        "A = np.random.uniform(-0.5, 0.5, size=(5, 5))\n",
        "\n",
        "row_sums = np.sum(A, axis=1).reshape(-1, 1)\n",
        "\n",
        "print(\"Матриця A (5x5):\")\n",
        "print(A)\n",
        "print(\"\\nВектор-стовпчик сум елементів кожного рядка:\")\n",
        "print(row_sums)"
      ],
      "metadata": {
        "colab": {
          "base_uri": "https://localhost:8080/"
        },
        "id": "b0Qvy08DfXp4",
        "outputId": "cf62e747-9849-4e07-a74c-fa9811f6c045"
      },
      "execution_count": 16,
      "outputs": [
        {
          "output_type": "stream",
          "name": "stdout",
          "text": [
            "Матриця A (5x5):\n",
            "[[ 0.49861296 -0.26735033  0.09067429 -0.11164595  0.04265638]\n",
            " [-0.10030123  0.41297635 -0.1216609  -0.29148087  0.45249678]\n",
            " [ 0.33741458 -0.30164841 -0.2167852   0.49912589 -0.21253105]\n",
            " [-0.11965368  0.33290586  0.40493279 -0.32544763  0.30749335]\n",
            " [ 0.29472542 -0.34466034  0.0412548   0.02016848 -0.10345545]]\n",
            "\n",
            "Вектор-стовпчик сум елементів кожного рядка:\n",
            "[[ 0.25294735]\n",
            " [ 0.35203013]\n",
            " [ 0.10557581]\n",
            " [ 0.60023069]\n",
            " [-0.0919671 ]]\n"
          ]
        }
      ]
    }
  ]
}