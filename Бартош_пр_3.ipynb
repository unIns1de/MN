{
  "nbformat": 4,
  "nbformat_minor": 0,
  "metadata": {
    "colab": {
      "provenance": []
    },
    "kernelspec": {
      "name": "python3",
      "display_name": "Python 3"
    },
    "language_info": {
      "name": "python"
    }
  },
  "cells": [
    {
      "cell_type": "markdown",
      "source": [
        "# Лабораторна робота 4.\n",
        "\n",
        "[Посилання на GitHub](https://github.com/unIns1de/MN/tree/main)\n"
      ],
      "metadata": {
        "id": "wN4s_nffcXN3"
      }
    },
    {
      "cell_type": "markdown",
      "source": [
        "1. Завантаження даних MovieLens 100k\n",
        "\n",
        "url = \"http://files.grouplens.org/datasets/movielens/ml-100k.zip\"\n",
        "r = requests.get(url)\n",
        "z = zipfile.ZipFile(io.BytesIO(r.content))\n",
        "z.extractall()  # розпаковує файли у папку ml-100k\n"
      ],
      "metadata": {
        "id": "Mz2174agfOCC"
      }
    },
    {
      "cell_type": "code",
      "source": [
        "# Завантажуємо дані\n",
        "ratings = pd.read_csv('ml-100k/u.data', sep='\\t', names=['user_id','item_id','rating','timestamp'])\n",
        "movies = pd.read_csv('ml-100k/u.item', sep='|', encoding='latin-1', names=range(24))\n",
        "movies = movies[[0,1]]\n",
        "movies.columns = ['item_id','title']"
      ],
      "metadata": {
        "id": "ClXNU5Q0fN9i"
      },
      "execution_count": 11,
      "outputs": []
    },
    {
      "cell_type": "markdown",
      "source": [
        "2. Матриця рейтингів\n"
      ],
      "metadata": {
        "id": "S5ClCmUdfYA5"
      }
    },
    {
      "cell_type": "code",
      "source": [
        "R = ratings.pivot(index='user_id', columns='item_id', values='rating').fillna(0)"
      ],
      "metadata": {
        "id": "HxlCm5RhfX5h"
      },
      "execution_count": 12,
      "outputs": []
    },
    {
      "cell_type": "markdown",
      "source": [
        "3. MNK-рекомендації (User-based) - ВИПРАВЛЕНА ВЕРСІЯ\n",
        "\n"
      ],
      "metadata": {
        "id": "lRRLpw1ofd6h"
      }
    },
    {
      "cell_type": "code",
      "source": [
        "user_similarity = cosine_similarity(R)\n",
        "user_similarity_df = pd.DataFrame(user_similarity, index=R.index, columns=R.index)\n",
        "\n",
        "def recommend_mnk(user_id, R, user_similarity_df, top_n=5):\n",
        "    # Отримуємо схожість поточного користувача з іншими\n",
        "    similar_users = user_similarity_df[user_id]\n",
        "\n",
        "    # Видаляємо поточного користувача\n",
        "    similar_users = similar_users.drop(user_id)\n",
        "\n",
        "    # Отримуємо рейтинги схожих користувачів\n",
        "    R_similar = R.loc[similar_users.index]\n",
        "\n",
        "    # Обчислюємо зважені рейтинги\n",
        "    weighted_ratings = (R_similar.T * similar_users.values).sum(axis=1) / similar_users.sum()\n",
        "    weighted_ratings = pd.Series(weighted_ratings, index=R.columns)\n",
        "\n",
        "    # Фільтруємо фільми, які користувач ще не оцінював\n",
        "    user_rated = R.loc[user_id] > 0\n",
        "    recommended_items = weighted_ratings[~user_rated].sort_values(ascending=False)\n",
        "\n",
        "    return movies.set_index('item_id').loc[recommended_items.head(top_n).index]['title']\n",
        "\n",
        "print(\"Рекомендації MNK для user_id=1:\")\n",
        "print(recommend_mnk(1, R, user_similarity_df))"
      ],
      "metadata": {
        "colab": {
          "base_uri": "https://localhost:8080/"
        },
        "id": "tjtlcd9TfdzT",
        "outputId": "b1633150-508c-4dca-c2c9-290519cec947"
      },
      "execution_count": 13,
      "outputs": [
        {
          "output_type": "stream",
          "name": "stdout",
          "text": [
            "Рекомендації MNK для user_id=1:\n",
            "item_id\n",
            "318                   Schindler's List (1993)\n",
            "423         E.T. the Extra-Terrestrial (1982)\n",
            "357    One Flew Over the Cuckoo's Nest (1975)\n",
            "286               English Patient, The (1996)\n",
            "288                             Scream (1996)\n",
            "Name: title, dtype: object\n"
          ]
        }
      ]
    },
    {
      "cell_type": "markdown",
      "source": [
        "4. Matrix Factorization (градієнтний спуск) - ВИПРАВЛЕНА ВЕРСІЯ\n"
      ],
      "metadata": {
        "id": "j2xnViZgfnYE"
      }
    },
    {
      "cell_type": "code",
      "source": [
        "\n",
        "class MF:\n",
        "    def __init__(self, R, K, alpha, beta, iterations):\n",
        "        self.R = R.values\n",
        "        self.num_users, self.num_items = R.shape\n",
        "        self.K = K\n",
        "        self.alpha = alpha\n",
        "        self.beta = beta\n",
        "        self.iterations = iterations\n",
        "\n",
        "    def train(self):\n",
        "        self.P = np.random.normal(0, 0.1, (self.num_users, self.K))\n",
        "        self.Q = np.random.normal(0, 0.1, (self.num_items, self.K))\n",
        "\n",
        "        for _ in range(self.iterations):\n",
        "            for i in range(self.num_users):\n",
        "                for j in range(self.num_items):\n",
        "                    if self.R[i, j] > 0:\n",
        "                        eij = self.R[i, j] - np.dot(self.P[i, :], self.Q[j, :].T)\n",
        "                        self.P[i, :] += self.alpha * (2 * eij * self.Q[j, :] - self.beta * self.P[i, :])\n",
        "                        self.Q[j, :] += self.alpha * (2 * eij * self.P[i, :] - self.beta * self.Q[j, :])\n",
        "        return self\n",
        "\n",
        "    def predict(self):\n",
        "        return pd.DataFrame(np.dot(self.P, self.Q.T), index=R.index, columns=R.columns)\n",
        "\n",
        "mf_model = MF(R, K=10, alpha=0.002, beta=0.02, iterations=20).train()\n",
        "R_pred = mf_model.predict()\n",
        "\n",
        "# Рекомендації для користувача 1\n",
        "user_rated = R.loc[1] > 0\n",
        "mf_recs = R_pred.loc[1][~user_rated].sort_values(ascending=False)\n",
        "\n",
        "print(\"\\nРекомендації MF для user_id=1:\")\n",
        "print(movies.set_index('item_id').loc[mf_recs.head(5).index]['title'])"
      ],
      "metadata": {
        "colab": {
          "base_uri": "https://localhost:8080/"
        },
        "id": "nR5fCp1xfnRU",
        "outputId": "bc9eff0f-ef59-40f8-8921-0a7fec7d3d85"
      },
      "execution_count": 14,
      "outputs": [
        {
          "output_type": "stream",
          "name": "stdout",
          "text": [
            "\n",
            "Рекомендації MF для user_id=1:\n",
            "item_id\n",
            "408                                Close Shave, A (1995)\n",
            "480                            North by Northwest (1959)\n",
            "357               One Flew Over the Cuckoo's Nest (1975)\n",
            "483                                    Casablanca (1942)\n",
            "474    Dr. Strangelove or: How I Learned to Stop Worr...\n",
            "Name: title, dtype: object\n"
          ]
        }
      ]
    },
    {
      "cell_type": "markdown",
      "source": [
        "5. Кластеризація користувачів - ВИПРАВЛЕНА ВЕРСІЯ\n"
      ],
      "metadata": {
        "id": "rxKWA6RFfvIp"
      }
    },
    {
      "cell_type": "code",
      "source": [
        "\n",
        "kmeans = KMeans(n_clusters=5, random_state=42)\n",
        "cluster_labels = kmeans.fit_predict(R)\n",
        "R_clustered = R.copy()\n",
        "R_clustered['cluster'] = cluster_labels\n",
        "user_cluster = R_clustered.loc[1, 'cluster']\n",
        "\n",
        "# Знаходимо середні рейтинги в кластері\n",
        "cluster_users = R_clustered[R_clustered['cluster'] == user_cluster].drop('cluster', axis=1)\n",
        "cluster_mean = cluster_users.mean()\n",
        "\n",
        "# Фільтруємо фільми, які користувач ще не бачив\n",
        "user_rated = R.loc[1] > 0\n",
        "cluster_recs = cluster_mean[~user_rated].sort_values(ascending=False)\n",
        "\n",
        "print(\"\\nРекомендації кластеризації для user_id=1:\")\n",
        "print(movies.set_index('item_id').loc[cluster_recs.head(5).index]['title'])"
      ],
      "metadata": {
        "colab": {
          "base_uri": "https://localhost:8080/"
        },
        "id": "2Lv__NpNfvAd",
        "outputId": "2906f790-54c4-42e7-ffed-80a628c9e893"
      },
      "execution_count": 15,
      "outputs": [
        {
          "output_type": "stream",
          "name": "stdout",
          "text": [
            "\n",
            "Рекомендації кластеризації для user_id=1:\n",
            "item_id\n",
            "423    E.T. the Extra-Terrestrial (1982)\n",
            "568                         Speed (1994)\n",
            "385                     True Lies (1994)\n",
            "405           Mission: Impossible (1996)\n",
            "403                        Batman (1989)\n",
            "Name: title, dtype: object\n"
          ]
        }
      ]
    }
  ]
}