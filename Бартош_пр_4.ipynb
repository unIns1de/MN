{
  "nbformat": 4,
  "nbformat_minor": 0,
  "metadata": {
    "colab": {
      "provenance": []
    },
    "kernelspec": {
      "name": "python3",
      "display_name": "Python 3"
    },
    "language_info": {
      "name": "python"
    }
  },
  "cells": [
    {
      "cell_type": "markdown",
      "source": [
        "# Лабораторна робота 4.\n",
        "\n",
        "[Посилання на GitHub](https://github.com/unIns1de/MN/tree/main)\n"
      ],
      "metadata": {
        "id": "bZpbypZCUW_j"
      }
    },
    {
      "cell_type": "markdown",
      "source": [
        "# Завдання 1"
      ],
      "metadata": {
        "id": "KfIlnEwBXs20"
      }
    },
    {
      "cell_type": "code",
      "source": [
        "# Імпорт необхідних бібліотек\n",
        "import pandas as pd\n",
        "from sklearn.datasets import load_breast_cancer\n",
        "\n",
        "# Завантаження датасету\n",
        "data = load_breast_cancer()\n",
        "\n",
        "# Створення DataFrame\n",
        "df = pd.DataFrame(data.data, columns=data.feature_names)\n",
        "df['target'] = data.target\n"
      ],
      "metadata": {
        "id": "ULnowMjuW4GP"
      },
      "execution_count": 6,
      "outputs": []
    },
    {
      "cell_type": "markdown",
      "source": [
        "1. Перегляньте перші кілька рядків"
      ],
      "metadata": {
        "id": "mg6j0cn8XNeZ"
      }
    },
    {
      "cell_type": "code",
      "source": [
        "print(\"1️⃣ Перші кілька рядків датасету:\")\n",
        "print(df.head())"
      ],
      "metadata": {
        "colab": {
          "base_uri": "https://localhost:8080/"
        },
        "id": "_nHuJ-BfXHRH",
        "outputId": "9ad5998e-fbef-40b7-e69e-3b97c83abd89"
      },
      "execution_count": 8,
      "outputs": [
        {
          "output_type": "stream",
          "name": "stdout",
          "text": [
            "1️⃣ Перші кілька рядків датасету:\n",
            "   mean radius  mean texture  mean perimeter  mean area  mean smoothness  \\\n",
            "0        17.99         10.38          122.80     1001.0          0.11840   \n",
            "1        20.57         17.77          132.90     1326.0          0.08474   \n",
            "2        19.69         21.25          130.00     1203.0          0.10960   \n",
            "3        11.42         20.38           77.58      386.1          0.14250   \n",
            "4        20.29         14.34          135.10     1297.0          0.10030   \n",
            "\n",
            "   mean compactness  mean concavity  mean concave points  mean symmetry  \\\n",
            "0           0.27760          0.3001              0.14710         0.2419   \n",
            "1           0.07864          0.0869              0.07017         0.1812   \n",
            "2           0.15990          0.1974              0.12790         0.2069   \n",
            "3           0.28390          0.2414              0.10520         0.2597   \n",
            "4           0.13280          0.1980              0.10430         0.1809   \n",
            "\n",
            "   mean fractal dimension  ...  worst texture  worst perimeter  worst area  \\\n",
            "0                 0.07871  ...          17.33           184.60      2019.0   \n",
            "1                 0.05667  ...          23.41           158.80      1956.0   \n",
            "2                 0.05999  ...          25.53           152.50      1709.0   \n",
            "3                 0.09744  ...          26.50            98.87       567.7   \n",
            "4                 0.05883  ...          16.67           152.20      1575.0   \n",
            "\n",
            "   worst smoothness  worst compactness  worst concavity  worst concave points  \\\n",
            "0            0.1622             0.6656           0.7119                0.2654   \n",
            "1            0.1238             0.1866           0.2416                0.1860   \n",
            "2            0.1444             0.4245           0.4504                0.2430   \n",
            "3            0.2098             0.8663           0.6869                0.2575   \n",
            "4            0.1374             0.2050           0.4000                0.1625   \n",
            "\n",
            "   worst symmetry  worst fractal dimension  target  \n",
            "0          0.4601                  0.11890       0  \n",
            "1          0.2750                  0.08902       0  \n",
            "2          0.3613                  0.08758       0  \n",
            "3          0.6638                  0.17300       0  \n",
            "4          0.2364                  0.07678       0  \n",
            "\n",
            "[5 rows x 31 columns]\n"
          ]
        }
      ]
    },
    {
      "cell_type": "markdown",
      "source": [
        "2. Перевірте назви стовпців та типи даних\n"
      ],
      "metadata": {
        "id": "EfT9GIe8XSME"
      }
    },
    {
      "cell_type": "code",
      "source": [
        "print(\"\\n2️⃣ Назви стовпців та типи даних:\")\n",
        "print(df.dtypes)"
      ],
      "metadata": {
        "colab": {
          "base_uri": "https://localhost:8080/"
        },
        "id": "EBeCUChNXYRV",
        "outputId": "89af8fb7-ad0e-4e17-aeef-1a8cc53a3ee2"
      },
      "execution_count": 9,
      "outputs": [
        {
          "output_type": "stream",
          "name": "stdout",
          "text": [
            "\n",
            "2️⃣ Назви стовпців та типи даних:\n",
            "mean radius                float64\n",
            "mean texture               float64\n",
            "mean perimeter             float64\n",
            "mean area                  float64\n",
            "mean smoothness            float64\n",
            "mean compactness           float64\n",
            "mean concavity             float64\n",
            "mean concave points        float64\n",
            "mean symmetry              float64\n",
            "mean fractal dimension     float64\n",
            "radius error               float64\n",
            "texture error              float64\n",
            "perimeter error            float64\n",
            "area error                 float64\n",
            "smoothness error           float64\n",
            "compactness error          float64\n",
            "concavity error            float64\n",
            "concave points error       float64\n",
            "symmetry error             float64\n",
            "fractal dimension error    float64\n",
            "worst radius               float64\n",
            "worst texture              float64\n",
            "worst perimeter            float64\n",
            "worst area                 float64\n",
            "worst smoothness           float64\n",
            "worst compactness          float64\n",
            "worst concavity            float64\n",
            "worst concave points       float64\n",
            "worst symmetry             float64\n",
            "worst fractal dimension    float64\n",
            "target                       int64\n",
            "dtype: object\n"
          ]
        }
      ]
    },
    {
      "cell_type": "markdown",
      "source": [
        "3. Перевірте наявність пропущених значень\n"
      ],
      "metadata": {
        "id": "rgzIusBlXZ-i"
      }
    },
    {
      "cell_type": "code",
      "source": [
        "print(\"\\n3️⃣ Перевірка пропущених значень:\")\n",
        "print(df.isnull().sum())"
      ],
      "metadata": {
        "colab": {
          "base_uri": "https://localhost:8080/"
        },
        "id": "Smad8PrsXZ2t",
        "outputId": "1814bebf-d8e8-401c-f54d-e0e2223a0e84"
      },
      "execution_count": 10,
      "outputs": [
        {
          "output_type": "stream",
          "name": "stdout",
          "text": [
            "\n",
            "3️⃣ Перевірка пропущених значень:\n",
            "mean radius                0\n",
            "mean texture               0\n",
            "mean perimeter             0\n",
            "mean area                  0\n",
            "mean smoothness            0\n",
            "mean compactness           0\n",
            "mean concavity             0\n",
            "mean concave points        0\n",
            "mean symmetry              0\n",
            "mean fractal dimension     0\n",
            "radius error               0\n",
            "texture error              0\n",
            "perimeter error            0\n",
            "area error                 0\n",
            "smoothness error           0\n",
            "compactness error          0\n",
            "concavity error            0\n",
            "concave points error       0\n",
            "symmetry error             0\n",
            "fractal dimension error    0\n",
            "worst radius               0\n",
            "worst texture              0\n",
            "worst perimeter            0\n",
            "worst area                 0\n",
            "worst smoothness           0\n",
            "worst compactness          0\n",
            "worst concavity            0\n",
            "worst concave points       0\n",
            "worst symmetry             0\n",
            "worst fractal dimension    0\n",
            "target                     0\n",
            "dtype: int64\n"
          ]
        }
      ]
    },
    {
      "cell_type": "markdown",
      "source": [
        "4. Досліджуйте розмір даних\n"
      ],
      "metadata": {
        "id": "ueieb6PgXg99"
      }
    },
    {
      "cell_type": "code",
      "source": [
        "print(\"\\n4️⃣ Розмір датасету (рядки, стовпці):\", df.shape)"
      ],
      "metadata": {
        "colab": {
          "base_uri": "https://localhost:8080/"
        },
        "id": "k8ykkOygXg0r",
        "outputId": "e038762d-6dbb-4007-df61-c3f0c2f9ade9"
      },
      "execution_count": 11,
      "outputs": [
        {
          "output_type": "stream",
          "name": "stdout",
          "text": [
            "\n",
            "4️⃣ Розмір датасету (рядки, стовпці): (569, 31)\n"
          ]
        }
      ]
    },
    {
      "cell_type": "markdown",
      "source": [
        "# Завдання 2"
      ],
      "metadata": {
        "id": "ZoX3Q-wxXmNz"
      }
    },
    {
      "cell_type": "markdown",
      "source": [
        "Імпорт бібліотек для моделювання"
      ],
      "metadata": {
        "id": "SdDK0FTaX2qA"
      }
    },
    {
      "cell_type": "code",
      "source": [
        "\n",
        "from sklearn.model_selection import train_test_split, GridSearchCV\n",
        "from sklearn.linear_model import LogisticRegression\n",
        "from sklearn.tree import DecisionTreeClassifier\n",
        "from sklearn.ensemble import RandomForestClassifier"
      ],
      "metadata": {
        "id": "HrBZ1fWFXmGF"
      },
      "execution_count": 12,
      "outputs": []
    },
    {
      "cell_type": "markdown",
      "source": [
        "1. Розділіть дані на навчальний і тестовий набори\n"
      ],
      "metadata": {
        "id": "OC9v2pnCX4lM"
      }
    },
    {
      "cell_type": "code",
      "source": [
        "X = df.drop('target', axis=1)\n",
        "y = df['target']\n",
        "\n",
        "X_train, X_test, y_train, y_test = train_test_split(X, y, test_size=0.2, random_state=42)\n",
        "print(\"\\n Дані розділено на навчальну та тестову вибірки.\")\n",
        "print(\"Розмір навчальної:\", X_train.shape, \"| Розмір тестової:\", X_test.shape)"
      ],
      "metadata": {
        "colab": {
          "base_uri": "https://localhost:8080/"
        },
        "id": "Jp2Q-gVmX4c9",
        "outputId": "d4d78b1c-aeb7-41e2-94ef-1cb6f2251ce0"
      },
      "execution_count": 17,
      "outputs": [
        {
          "output_type": "stream",
          "name": "stdout",
          "text": [
            "\n",
            " Дані розділено на навчальну та тестову вибірки.\n",
            "Розмір навчальної: (455, 30) | Розмір тестової: (114, 30)\n"
          ]
        }
      ]
    },
    {
      "cell_type": "markdown",
      "source": [
        "2. Побудуйте три моделі класифікації:\n"
      ],
      "metadata": {
        "id": "3U58K6WWYFzV"
      }
    },
    {
      "cell_type": "code",
      "source": [
        "models = {\n",
        "    \"Логістична регресія\": LogisticRegression(max_iter=5000),\n",
        "    \"Дерево рішень\": DecisionTreeClassifier(),\n",
        "    \"Випадковий ліс\": RandomForestClassifier()\n",
        "}"
      ],
      "metadata": {
        "id": "Hf0CrNPDYFs5"
      },
      "execution_count": 20,
      "outputs": []
    },
    {
      "cell_type": "markdown",
      "source": [
        "3. Підберіть оптимальні параметри за допомогою GridSearchCV\n"
      ],
      "metadata": {
        "id": "41k4nMCaYRug"
      }
    },
    {
      "cell_type": "code",
      "source": [
        "param_grids = {\n",
        "    \"Логістична регресія\": {\"C\": [0.1, 1, 10], \"solver\": [\"lbfgs\", \"liblinear\"]},\n",
        "    \"Дерево рішень\": {\"max_depth\": [3, 5, 7, None], \"criterion\": [\"gini\", \"entropy\"]},\n",
        "    \"Випадковий ліс\": {\"n_estimators\": [50, 100, 200], \"max_depth\": [None, 5, 10]}\n",
        "}\n",
        "\n",
        "best_models = {}\n",
        "\n",
        "for name, model in models.items():\n",
        "    print(f\"\\n🔹 Налаштування моделі: {name}\")\n",
        "    grid = GridSearchCV(model, param_grids[name], cv=5, scoring='accuracy', n_jobs=-1)\n",
        "    grid.fit(X_train, y_train)\n",
        "    best_models[name] = grid.best_estimator_\n",
        "    print(\"Найкращі параметри:\", grid.best_params_)"
      ],
      "metadata": {
        "colab": {
          "base_uri": "https://localhost:8080/"
        },
        "id": "Gx6-zKT5YRmH",
        "outputId": "d8e70b2a-c8b1-42d7-df2e-11bc577eb587"
      },
      "execution_count": 21,
      "outputs": [
        {
          "output_type": "stream",
          "name": "stdout",
          "text": [
            "\n",
            "🔹 Налаштування моделі: Логістична регресія\n",
            "Найкращі параметри: {'C': 10, 'solver': 'liblinear'}\n",
            "\n",
            "🔹 Налаштування моделі: Дерево рішень\n",
            "Найкращі параметри: {'criterion': 'entropy', 'max_depth': 3}\n",
            "\n",
            "🔹 Налаштування моделі: Випадковий ліс\n",
            "Найкращі параметри: {'max_depth': 5, 'n_estimators': 200}\n"
          ]
        }
      ]
    },
    {
      "cell_type": "markdown",
      "source": [
        "# Завдання 3. Оцініть моделі"
      ],
      "metadata": {
        "id": "COLW_QlsYvwh"
      }
    },
    {
      "cell_type": "code",
      "source": [
        "from sklearn.metrics import accuracy_score, classification_report, confusion_matrix\n",
        "\n",
        "print(\"\\n\\n=== ОЦІНКА МОДЕЛЕЙ ===\")\n",
        "results = {}\n",
        "\n",
        "for name, model in best_models.items():\n",
        "    y_pred = model.predict(X_test)\n",
        "    acc = accuracy_score(y_test, y_pred)\n",
        "    results[name] = acc\n",
        "    print(f\"\\n {name}\")\n",
        "    print(f\"Точність (accuracy): {acc:.4f}\")\n",
        "    print(\"Матриця помилок (confusion matrix):\")\n",
        "    print(confusion_matrix(y_test, y_pred))\n",
        "    print(\"Звіт про класифікацію (classification report):\")\n",
        "    print(classification_report(y_test, y_pred))"
      ],
      "metadata": {
        "colab": {
          "base_uri": "https://localhost:8080/"
        },
        "id": "jiepfyZtYvi5",
        "outputId": "af32faf6-9449-4d21-e60c-5820e2adb8c8"
      },
      "execution_count": 23,
      "outputs": [
        {
          "output_type": "stream",
          "name": "stdout",
          "text": [
            "\n",
            "\n",
            "=== ОЦІНКА МОДЕЛЕЙ ===\n",
            "\n",
            " Логістична регресія\n",
            "Точність (accuracy): 0.9561\n",
            "Матриця помилок (confusion matrix):\n",
            "[[39  4]\n",
            " [ 1 70]]\n",
            "Звіт про класифікацію (classification report):\n",
            "              precision    recall  f1-score   support\n",
            "\n",
            "           0       0.97      0.91      0.94        43\n",
            "           1       0.95      0.99      0.97        71\n",
            "\n",
            "    accuracy                           0.96       114\n",
            "   macro avg       0.96      0.95      0.95       114\n",
            "weighted avg       0.96      0.96      0.96       114\n",
            "\n",
            "\n",
            " Дерево рішень\n",
            "Точність (accuracy): 0.9649\n",
            "Матриця помилок (confusion matrix):\n",
            "[[39  4]\n",
            " [ 0 71]]\n",
            "Звіт про класифікацію (classification report):\n",
            "              precision    recall  f1-score   support\n",
            "\n",
            "           0       1.00      0.91      0.95        43\n",
            "           1       0.95      1.00      0.97        71\n",
            "\n",
            "    accuracy                           0.96       114\n",
            "   macro avg       0.97      0.95      0.96       114\n",
            "weighted avg       0.97      0.96      0.96       114\n",
            "\n",
            "\n",
            " Випадковий ліс\n",
            "Точність (accuracy): 0.9649\n",
            "Матриця помилок (confusion matrix):\n",
            "[[40  3]\n",
            " [ 1 70]]\n",
            "Звіт про класифікацію (classification report):\n",
            "              precision    recall  f1-score   support\n",
            "\n",
            "           0       0.98      0.93      0.95        43\n",
            "           1       0.96      0.99      0.97        71\n",
            "\n",
            "    accuracy                           0.96       114\n",
            "   macro avg       0.97      0.96      0.96       114\n",
            "weighted avg       0.97      0.96      0.96       114\n",
            "\n"
          ]
        }
      ]
    },
    {
      "cell_type": "markdown",
      "source": [
        "# Завдання 4"
      ],
      "metadata": {
        "id": "GZS4mTs8Y2g5"
      }
    },
    {
      "cell_type": "markdown",
      "source": [
        "1. Оберіть найкращу модель на основі метрик продуктивності\n"
      ],
      "metadata": {
        "id": "eG1U1ym4Y-ha"
      }
    },
    {
      "cell_type": "code",
      "source": [
        "best_model_name = max(results, key=results.get)\n",
        "best_model = best_models[best_model_name]\n",
        "\n",
        "print(f\"\\n Найкраща модель: {best_model_name} з точністю {results[best_model_name]:.4f}\")"
      ],
      "metadata": {
        "colab": {
          "base_uri": "https://localhost:8080/"
        },
        "id": "uYWnbvUpY-bl",
        "outputId": "0b7457f7-8953-46df-a2e1-8e622e41b3d1"
      },
      "execution_count": 28,
      "outputs": [
        {
          "output_type": "stream",
          "name": "stdout",
          "text": [
            "\n",
            " Найкраща модель: Дерево рішень з точністю 0.9649\n"
          ]
        }
      ]
    },
    {
      "cell_type": "markdown",
      "source": [
        "2. Зробіть прогноз на тестовій вибірці\n"
      ],
      "metadata": {
        "id": "xGyB4pQIZLJE"
      }
    },
    {
      "cell_type": "code",
      "source": [
        "y_pred_best = best_model.predict(X_test)"
      ],
      "metadata": {
        "id": "8Ht21hAwZLCu"
      },
      "execution_count": 29,
      "outputs": []
    },
    {
      "cell_type": "markdown",
      "source": [
        "3. Виведіть результати прогнозування\n"
      ],
      "metadata": {
        "id": "tDqmr2pHZSYU"
      }
    },
    {
      "cell_type": "code",
      "source": [
        "print(\"\\n🔹 Перші 10 результатів прогнозування:\")\n",
        "pred_df = pd.DataFrame({'Реальне значення': y_test[:10].values, 'Прогноз': y_pred_best[:10]})\n",
        "print(pred_df)"
      ],
      "metadata": {
        "colab": {
          "base_uri": "https://localhost:8080/"
        },
        "id": "l8G3lZSmZSPn",
        "outputId": "e1ba10d2-56e1-4f52-d8e5-45d5002d2c7c"
      },
      "execution_count": 30,
      "outputs": [
        {
          "output_type": "stream",
          "name": "stdout",
          "text": [
            "\n",
            "🔹 Перші 10 результатів прогнозування:\n",
            "   Реальне значення  Прогноз\n",
            "0                 1        1\n",
            "1                 0        0\n",
            "2                 0        0\n",
            "3                 1        1\n",
            "4                 1        1\n",
            "5                 0        0\n",
            "6                 0        0\n",
            "7                 0        0\n",
            "8                 1        1\n",
            "9                 1        1\n"
          ]
        }
      ]
    }
  ]
}